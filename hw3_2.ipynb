{
 "cells": [
  {
   "cell_type": "markdown",
   "metadata": {},
   "source": [
    "## Boston House Price\n",
    "\n",
    "X축-boston data(house price에 영향을 주는 요소들)\n",
    "Y축-boston target(house price)\n",
    "\n",
    "0.범죄비율\n",
    " \n",
    "범죄비율이 낮을수록 집값이 높아지는 양상을 확인할 수있음\n",
    "1.25000제곱피트당 살 수 있는 땅의 비율\n",
    " \n",
    "살수있는 땅의 비율이 커질수록 높은 집값의 데이터는 거의 존재하지 않는 정도로 감소함.\n",
    "2.가게의 비율\n",
    " \n",
    "집값과 가게의 비율은 거의 동등하게 보여짐\n",
    "3.river dummy variable\n",
    " \n",
    "강이 인근에 있을수록 집값이 높아지는지를 보여주는 데이터이다.\n",
    "4.nitric oxides concentration\n",
    " \n",
    "질소 산화물 농도에 따른 집값의 분포또한 산화물 농도가 낮을수록 높은 집값쪽에 많이 분포한다.\n",
    "5.주택 평균 방개수\n",
    " \n",
    "방의 개수가 중간 정도에서는 집값이 낮거나 중간 일수록 분포가 몰려있으나 아주 많은 개수일땐 높은 집값에만 데이터가 존재한다.\n",
    "6.1940년 이전에 지어진 주택의 비율\n",
    "\n",
    " \n",
    "7.고용센터와의 거리\n",
    "고용 센터가 많이 분포 돼있는 지역의 낮은 집값이 확연히 많은분포를 이루는 것을 확인할 수 있다. \n",
    " \n",
    "8.방사형 고속도로 접근성\n",
    " \n",
    "방사형 고속도로와의 접근성은 가깝지 않을수록 집값이 높아지는것을 확인함.\n",
    "\n",
    "\n",
    "\n",
    "9.만달러당 부가가치세\n",
    " \n",
    "부가가치세 또한 높은 집값 쪽 일수록 낮은 분포 쪽에 몰려있다. \n",
    "10.학생 수에 대한 선생님 수 비율\n",
    " \n",
    "학생 수에 따른 선생님 수의 비율의 분포는 고르게 분포돼있음.\n",
    "\n",
    "11.흑인비율\n",
    " \n",
    "흑인의 수는 수가 많을수록 좀더 낮은 집값의 데이터 쪽에 몰려있는 분포를 갖는다.\n",
    "\n",
    "\n",
    "12.저소득층비율\n",
    " \n",
    "저소득층 비율은 저소득층이 많을수록 낮은집값쪽에 몰려있음이 확인된다.\n",
    "\n"
   ]
  }
 ],
 "metadata": {
  "kernelspec": {
   "display_name": "Python 3",
   "language": "python",
   "name": "python3"
  },
  "language_info": {
   "codemirror_mode": {
    "name": "ipython",
    "version": 3
   },
   "file_extension": ".py",
   "mimetype": "text/x-python",
   "name": "python",
   "nbconvert_exporter": "python",
   "pygments_lexer": "ipython3",
   "version": "3.8.3"
  }
 },
 "nbformat": 4,
 "nbformat_minor": 4
}

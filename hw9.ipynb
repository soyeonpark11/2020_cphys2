{
  "nbformat": 4,
  "nbformat_minor": 0,
  "metadata": {
    "colab": {
      "name": "Untitled18.ipynb",
      "provenance": [],
      "authorship_tag": "ABX9TyOLHNcecQH91XgLtTD8VtyG",
      "include_colab_link": true
    },
    "kernelspec": {
      "name": "python3",
      "display_name": "Python 3"
    }
  },
  "cells": [
    {
      "cell_type": "markdown",
      "metadata": {
        "id": "view-in-github",
        "colab_type": "text"
      },
      "source": [
        "<a href=\"https://colab.research.google.com/github/soyeonpark11/2020_cphys2/blob/master/hw9.ipynb\" target=\"_parent\"><img src=\"https://colab.research.google.com/assets/colab-badge.svg\" alt=\"Open In Colab\"/></a>"
      ]
    },
    {
      "cell_type": "code",
      "metadata": {
        "id": "1kyA_3vsuNoK"
      },
      "source": [
        "import numpy as np\n",
        "from tensorflow import keras\n",
        "from keras import models \n",
        "from keras import layers\n",
        "from keras.datasets import mnist\n",
        "from keras.utils import to_categorical\n",
        "import matplotlib.pyplot as plt\n",
        "import tensorflow as tf"
      ],
      "execution_count": 1,
      "outputs": []
    },
    {
      "cell_type": "code",
      "metadata": {
        "id": "8Plli7XFuZfN",
        "outputId": "918a1f33-445f-4df6-e19d-d92c6a6ec3d0",
        "colab": {
          "base_uri": "https://localhost:8080/"
        }
      },
      "source": [
        "from keras.datasets import fashion_mnist\n",
        "from keras.utils import to_categorical\n",
        "\n",
        "(X_train, y_train), (X_test, y_test) = fashion_mnist.load_data()\n",
        "y_train=to_categorical(y_train)\n",
        "y_test=to_categorical(y_test)\n",
        "\n",
        "\n",
        "X_train = X_train.reshape((60000, 28*28))\n",
        "X_train = X_train/255\n",
        "\n",
        "X_test = X_test.reshape((10000, 28*28))\n",
        "X_test = X_test/255\n",
        "\n",
        "net = models.Sequential()\n",
        "net.add(layers.Dense(512, activation='relu', input_shape=(28*28,))) \n",
        "net.add(layers.Dense(512, activation='relu')) \n",
        "net.add(layers.Dropout(0.5))\n",
        "net.add(layers.Dense(512, activation='relu')) \n",
        "net.add(layers.Dropout(0.5))\n",
        "net.add(layers.Dense(10, activation='softmax')) \n",
        "net.compile(optimizer='nadam',loss='categorical_crossentropy',metrics=['acc'])\n",
        "X_val = X_train[:10000]\n",
        "partial_X_train = X_train[10000:]\n",
        "\n",
        "y_val = y_train[:10000]\n",
        "partial_y_train = y_train[10000:]\n",
        "\n",
        "val= net.fit(partial_X_train,partial_y_train,epochs=10, batch_size=64, validation_data=(X_val, y_val))\n",
        "\n",
        "test_loss, test_acc = net.evaluate(X_test,y_test)"
      ],
      "execution_count": 7,
      "outputs": [
        {
          "output_type": "stream",
          "text": [
            "Epoch 1/10\n",
            "782/782 [==============================] - 20s 26ms/step - loss: 0.5634 - acc: 0.8000 - val_loss: 0.5710 - val_acc: 0.8024\n",
            "Epoch 2/10\n",
            "782/782 [==============================] - 21s 27ms/step - loss: 0.3993 - acc: 0.8568 - val_loss: 0.3676 - val_acc: 0.8639\n",
            "Epoch 3/10\n",
            "782/782 [==============================] - 21s 27ms/step - loss: 0.3562 - acc: 0.8710 - val_loss: 0.3384 - val_acc: 0.8797\n",
            "Epoch 4/10\n",
            "782/782 [==============================] - 21s 26ms/step - loss: 0.3322 - acc: 0.8803 - val_loss: 0.3325 - val_acc: 0.8783\n",
            "Epoch 5/10\n",
            "782/782 [==============================] - 21s 27ms/step - loss: 0.3144 - acc: 0.8864 - val_loss: 0.3327 - val_acc: 0.8768\n",
            "Epoch 6/10\n",
            "782/782 [==============================] - 21s 26ms/step - loss: 0.3013 - acc: 0.8902 - val_loss: 0.3301 - val_acc: 0.8792\n",
            "Epoch 7/10\n",
            "782/782 [==============================] - 20s 26ms/step - loss: 0.2867 - acc: 0.8951 - val_loss: 0.3145 - val_acc: 0.8885\n",
            "Epoch 8/10\n",
            "782/782 [==============================] - 21s 26ms/step - loss: 0.2772 - acc: 0.8987 - val_loss: 0.3119 - val_acc: 0.8900\n",
            "Epoch 9/10\n",
            "782/782 [==============================] - 21s 26ms/step - loss: 0.2678 - acc: 0.9016 - val_loss: 0.3117 - val_acc: 0.8845\n",
            "Epoch 10/10\n",
            "782/782 [==============================] - 21s 26ms/step - loss: 0.2601 - acc: 0.9043 - val_loss: 0.3891 - val_acc: 0.8686\n",
            "313/313 [==============================] - 1s 4ms/step - loss: 0.4130 - acc: 0.8638\n"
          ],
          "name": "stdout"
        }
      ]
    },
    {
      "cell_type": "code",
      "metadata": {
        "id": "ubp79OUEvC2q",
        "outputId": "0aa646ae-79d1-4599-9603-7fb3afd8734c",
        "colab": {
          "base_uri": "https://localhost:8080/"
        }
      },
      "source": [
        "net.summary()"
      ],
      "execution_count": 8,
      "outputs": [
        {
          "output_type": "stream",
          "text": [
            "Model: \"sequential_1\"\n",
            "_________________________________________________________________\n",
            "Layer (type)                 Output Shape              Param #   \n",
            "=================================================================\n",
            "dense_2 (Dense)              (None, 512)               401920    \n",
            "_________________________________________________________________\n",
            "dense_3 (Dense)              (None, 512)               262656    \n",
            "_________________________________________________________________\n",
            "dropout (Dropout)            (None, 512)               0         \n",
            "_________________________________________________________________\n",
            "dense_4 (Dense)              (None, 512)               262656    \n",
            "_________________________________________________________________\n",
            "dropout_1 (Dropout)          (None, 512)               0         \n",
            "_________________________________________________________________\n",
            "dense_5 (Dense)              (None, 10)                5130      \n",
            "=================================================================\n",
            "Total params: 932,362\n",
            "Trainable params: 932,362\n",
            "Non-trainable params: 0\n",
            "_________________________________________________________________\n"
          ],
          "name": "stdout"
        }
      ]
    },
    {
      "cell_type": "code",
      "metadata": {
        "id": "1psl1-EJvGTu"
      },
      "source": [
        "##MLP는 구조는 간단하지만 이미지 크기가 커지면 파라미터 개수가 기하급수적으로 증가하는 반면에 CONVOLUTION을 이용하면 파라미터도 많이 줄게되고 성능또한 증가함이 확인된다.그래서 CONVOLUTION은 가중치가 적게 필요하므로 이미지 처리에 적합함을 알 수 있었다.\n"
      ],
      "execution_count": null,
      "outputs": []
    }
  ]
}
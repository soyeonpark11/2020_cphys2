{
  "nbformat": 4,
  "nbformat_minor": 0,
  "metadata": {
    "colab": {
      "name": "Untitled20.ipynb",
      "provenance": [],
      "authorship_tag": "ABX9TyPBvnMN61yiqAx3I223S8g1",
      "include_colab_link": true
    },
    "kernelspec": {
      "name": "python3",
      "display_name": "Python 3"
    }
  },
  "cells": [
    {
      "cell_type": "markdown",
      "metadata": {
        "id": "view-in-github",
        "colab_type": "text"
      },
      "source": [
        "<a href=\"https://colab.research.google.com/github/soyeonpark11/2020_cphys2/blob/master/hw10.ipynb\" target=\"_parent\"><img src=\"https://colab.research.google.com/assets/colab-badge.svg\" alt=\"Open In Colab\"/></a>"
      ]
    },
    {
      "cell_type": "code",
      "metadata": {
        "id": "9uTASrFUckW2"
      },
      "source": [
        "import numpy as np\n",
        "from tensorflow import keras\n",
        "from keras import models \n",
        "from keras import layers\n",
        "import matplotlib.pyplot as plt\n",
        "\n",
        "from keras.datasets import imdb"
      ],
      "execution_count": 1,
      "outputs": []
    },
    {
      "cell_type": "code",
      "metadata": {
        "colab": {
          "base_uri": "https://localhost:8080/"
        },
        "id": "Gu9zbM9gcleO",
        "outputId": "da23745f-9ed0-4cd9-a2a1-6e7015643403"
      },
      "source": [
        "(X, y_train), (X_test, y_test) = imdb.load_data(num_words=10000)\n"
      ],
      "execution_count": 2,
      "outputs": [
        {
          "output_type": "stream",
          "text": [
            "Downloading data from https://storage.googleapis.com/tensorflow/tf-keras-datasets/imdb.npz\n",
            "17465344/17464789 [==============================] - 0s 0us/step\n"
          ],
          "name": "stdout"
        }
      ]
    },
    {
      "cell_type": "code",
      "metadata": {
        "id": "gGsO5ETScoxv"
      },
      "source": [
        "def vect(seq, dim=10000):\n",
        "    x=np.zeros((len(seq),dim))\n",
        "    for n, i in enumerate(seq):\n",
        "        x[n, i] = 1\n",
        "    return x"
      ],
      "execution_count": 3,
      "outputs": []
    },
    {
      "cell_type": "code",
      "metadata": {
        "id": "vwO07ZsEcrxT"
      },
      "source": [
        "X_train=vect(X)\n",
        "X_test=vect(X_test)"
      ],
      "execution_count": 4,
      "outputs": []
    },
    {
      "cell_type": "code",
      "metadata": {
        "colab": {
          "base_uri": "https://localhost:8080/"
        },
        "id": "1n86QtiXcuVN",
        "outputId": "2becab44-20d6-43c5-cf0e-e4150af68f43"
      },
      "source": [
        "X_train[0]"
      ],
      "execution_count": 5,
      "outputs": [
        {
          "output_type": "execute_result",
          "data": {
            "text/plain": [
              "array([0., 1., 1., ..., 0., 0., 0.])"
            ]
          },
          "metadata": {
            "tags": []
          },
          "execution_count": 5
        }
      ]
    },
    {
      "cell_type": "code",
      "metadata": {
        "colab": {
          "base_uri": "https://localhost:8080/"
        },
        "id": "sHnXbrl4cyBw",
        "outputId": "ed069f2c-ab5d-444f-f553-427c35e0c618"
      },
      "source": [
        "net = models.Sequential()\n",
        "net.add(layers.Dense(16, activation='relu', input_shape=(10000,)))\n",
        "net.add(layers.Dropout(0.5))\n",
        "net.add(layers.Dense(16, activation='relu'))\n",
        "net.add(layers.Dropout(0.5))\n",
        "net.add(layers.Dense(1, activation='sigmoid'))\n",
        "net.compile(optimizer='nadam', loss='binary_crossentropy', metrics = ['acc'])\n",
        "\n",
        "X_val = X_train[:10000]\n",
        "partial_X_train = X_train[10000:]\n",
        "\n",
        "y_val = y_train[:10000]\n",
        "partial_y_train = y_train[10000:]\n",
        "\n",
        "val = net.fit(partial_X_train, partial_y_train, epochs=5, batch_size=128, validation_data=(X_val, y_val))"
      ],
      "execution_count": 6,
      "outputs": [
        {
          "output_type": "stream",
          "text": [
            "Epoch 1/5\n",
            "118/118 [==============================] - 2s 14ms/step - loss: 0.5766 - acc: 0.6930 - val_loss: 0.3823 - val_acc: 0.8712\n",
            "Epoch 2/5\n",
            "118/118 [==============================] - 1s 12ms/step - loss: 0.3854 - acc: 0.8415 - val_loss: 0.2886 - val_acc: 0.8900\n",
            "Epoch 3/5\n",
            "118/118 [==============================] - 2s 13ms/step - loss: 0.3003 - acc: 0.8895 - val_loss: 0.2860 - val_acc: 0.8810\n",
            "Epoch 4/5\n",
            "118/118 [==============================] - 2s 13ms/step - loss: 0.2513 - acc: 0.9097 - val_loss: 0.2854 - val_acc: 0.8850\n",
            "Epoch 5/5\n",
            "118/118 [==============================] - 1s 12ms/step - loss: 0.2119 - acc: 0.9211 - val_loss: 0.2891 - val_acc: 0.8852\n"
          ],
          "name": "stdout"
        }
      ]
    },
    {
      "cell_type": "code",
      "metadata": {
        "colab": {
          "base_uri": "https://localhost:8080/",
          "height": 282
        },
        "id": "AnXWwBhJc1NW",
        "outputId": "54ae1a73-519b-4cce-fa98-66837ac251bc"
      },
      "source": [
        "val_dict = val.history\n",
        "loss = val_dict['loss']\n",
        "val_loss = val_dict['val_loss']\n",
        "x = np.arange(0,len(loss))\n",
        "\n",
        "plt.plot(x,loss,'-')\n",
        "plt.plot(x,val_loss,'o')"
      ],
      "execution_count": 7,
      "outputs": [
        {
          "output_type": "execute_result",
          "data": {
            "text/plain": [
              "[<matplotlib.lines.Line2D at 0x7f1d4ff7da20>]"
            ]
          },
          "metadata": {
            "tags": []
          },
          "execution_count": 7
        },
        {
          "output_type": "display_data",
          "data": {
            "image/png": "[encoded data removed]",
            "text/plain": [
              "<Figure size 432x288 with 1 Axes>"
            ]
          },
          "metadata": {
            "tags": [],
            "needs_background": "light"
          }
        }
      ]
    },
    {
      "cell_type": "code",
      "metadata": {
        "colab": {
          "base_uri": "https://localhost:8080/"
        },
        "id": "Q0JhYmtHc6oZ",
        "outputId": "a124d4ad-0209-46eb-ff7a-b12771497e96"
      },
      "source": [
        "\n",
        "test_loss, test_acc = net.evaluate(X_test,y_test)"
      ],
      "execution_count": 8,
      "outputs": [
        {
          "output_type": "stream",
          "text": [
            "782/782 [==============================] - 1s 2ms/step - loss: 0.3073 - acc: 0.8775\n"
          ],
          "name": "stdout"
        }
      ]
    },
    {
      "cell_type": "code",
      "metadata": {
        "id": "lSFX715Mc8sQ"
      },
      "source": [
        ""
      ],
      "execution_count": null,
      "outputs": []
    },
    {
      "cell_type": "markdown",
      "metadata": {
        "id": "t6apG-endEw3"
      },
      "source": [
        "\n",
        "IMDB Classification using simple RNN"
      ]
    },
    {
      "cell_type": "code",
      "metadata": {
        "id": "HZXLeITKdHcg"
      },
      "source": [
        "from keras.preprocessing import sequence\n",
        "\n",
        "max_words=10000 \n",
        "(X_train, y_train), (X_test, y_test) = imdb.load_data(num_words=max_words)\n",
        "max_features = 10000 \n",
        "maxlen = 100 \n",
        "X_train = sequence.pad_sequences(X_train, maxlen=maxlen)\n",
        "X_test = sequence.pad_sequences(X_test, maxlen=maxlen)"
      ],
      "execution_count": 29,
      "outputs": []
    },
    {
      "cell_type": "code",
      "metadata": {
        "colab": {
          "base_uri": "https://localhost:8080/"
        },
        "id": "B8ZUG5VuhIoa",
        "outputId": "6700d569-6b68-4626-f1e3-83f63c4a96a3"
      },
      "source": [
        "X_train[0]"
      ],
      "execution_count": 53,
      "outputs": [
        {
          "output_type": "execute_result",
          "data": {
            "text/plain": [
              "array([1415,   33,    6,   22,   12,  215,   28,   77,   52,    5,   14,\n",
              "        407,   16,   82,    2,    8,    4,  107,  117, 5952,   15,  256,\n",
              "          4,    2,    7, 3766,    5,  723,   36,   71,   43,  530,  476,\n",
              "         26,  400,  317,   46,    7,    4,    2, 1029,   13,  104,   88,\n",
              "          4,  381,   15,  297,   98,   32, 2071,   56,   26,  141,    6,\n",
              "        194, 7486,   18,    4,  226,   22,   21,  134,  476,   26,  480,\n",
              "          5,  144,   30, 5535,   18,   51,   36,   28,  224,   92,   25,\n",
              "        104,    4,  226,   65,   16,   38, 1334,   88,   12,   16,  283,\n",
              "          5,   16, 4472,  113,  103,   32,   15,   16, 5345,   19,  178,\n",
              "         32], dtype=int32)"
            ]
          },
          "metadata": {
            "tags": []
          },
          "execution_count": 53
        }
      ]
    },
    {
      "cell_type": "code",
      "metadata": {
        "id": "DfnayDXrmQ0Y"
      },
      "source": [
        "from keras.layers import Dense\n",
        "rnn = models.Sequential()\n",
        "rnn.add(layers.Embedding(max_words, 32))\n",
        "rnn.add(layers.SimpleRNN(32))\n",
        "rnn.add(layers.Dropout(0.2))\n",
        "rnn.add(Dense(1, activation='sigmoid'))\n",
        "rnn.compile(optimizer='rmsprop', loss='binary_crossentropy', metrics=['acc'])"
      ],
      "execution_count": 59,
      "outputs": []
    },
    {
      "cell_type": "code",
      "metadata": {
        "colab": {
          "base_uri": "https://localhost:8080/"
        },
        "id": "7jmPwijDlVTa",
        "outputId": "671818fa-d257-4469-c8a2-79516b6ad58e"
      },
      "source": [
        "rnn.summary()"
      ],
      "execution_count": 60,
      "outputs": [
        {
          "output_type": "stream",
          "text": [
            "Model: \"sequential_20\"\n",
            "_________________________________________________________________\n",
            "Layer (type)                 Output Shape              Param #   \n",
            "=================================================================\n",
            "embedding_17 (Embedding)     (None, None, 32)          320000    \n",
            "_________________________________________________________________\n",
            "simple_rnn_16 (SimpleRNN)    (None, 32)                2080      \n",
            "_________________________________________________________________\n",
            "dropout_9 (Dropout)          (None, 32)                0         \n",
            "_________________________________________________________________\n",
            "dense_14 (Dense)             (None, 1)                 33        \n",
            "=================================================================\n",
            "Total params: 322,113\n",
            "Trainable params: 322,113\n",
            "Non-trainable params: 0\n",
            "_________________________________________________________________\n"
          ],
          "name": "stdout"
        }
      ]
    },
    {
      "cell_type": "code",
      "metadata": {
        "colab": {
          "base_uri": "https://localhost:8080/"
        },
        "id": "4Nl_dCAWlfNp",
        "outputId": "03294271-7669-4320-89c8-604a61e3b144"
      },
      "source": [
        "history = rnn.fit(input_train, y_train,\n",
        "epochs=10,\n",
        "batch_size=128,\n",
        "validation_split=0.2)"
      ],
      "execution_count": 61,
      "outputs": [
        {
          "output_type": "stream",
          "text": [
            "Epoch 1/10\n",
            "157/157 [==============================] - 25s 161ms/step - loss: 0.6149 - acc: 0.6467 - val_loss: 0.4979 - val_acc: 0.7630\n",
            "Epoch 2/10\n",
            "157/157 [==============================] - 23s 150ms/step - loss: 0.3747 - acc: 0.8450 - val_loss: 0.3643 - val_acc: 0.8518\n",
            "Epoch 3/10\n",
            "157/157 [==============================] - 22s 141ms/step - loss: 0.2988 - acc: 0.8817 - val_loss: 0.3699 - val_acc: 0.8584\n",
            "Epoch 4/10\n",
            "157/157 [==============================] - 22s 143ms/step - loss: 0.2467 - acc: 0.9063 - val_loss: 0.3745 - val_acc: 0.8586\n",
            "Epoch 5/10\n",
            "157/157 [==============================] - 21s 135ms/step - loss: 0.1796 - acc: 0.9343 - val_loss: 0.3782 - val_acc: 0.8564\n",
            "Epoch 6/10\n",
            "157/157 [==============================] - 21s 135ms/step - loss: 0.1362 - acc: 0.9505 - val_loss: 0.4570 - val_acc: 0.8256\n",
            "Epoch 7/10\n",
            "157/157 [==============================] - 21s 137ms/step - loss: 0.1014 - acc: 0.9656 - val_loss: 0.4487 - val_acc: 0.8400\n",
            "Epoch 8/10\n",
            "157/157 [==============================] - 22s 138ms/step - loss: 0.0775 - acc: 0.9747 - val_loss: 0.5625 - val_acc: 0.8186\n",
            "Epoch 9/10\n",
            "157/157 [==============================] - 23s 148ms/step - loss: 0.0528 - acc: 0.9834 - val_loss: 0.6590 - val_acc: 0.7826\n",
            "Epoch 10/10\n",
            "157/157 [==============================] - 22s 142ms/step - loss: 0.0418 - acc: 0.9876 - val_loss: 0.6491 - val_acc: 0.7944\n"
          ],
          "name": "stdout"
        }
      ]
    },
    {
      "cell_type": "code",
      "metadata": {
        "colab": {
          "base_uri": "https://localhost:8080/",
          "height": 545
        },
        "id": "La28A-5odiTg",
        "outputId": "fa48485d-fcad-409c-e0a6-34223a1bec72"
      },
      "source": [
        "\n",
        "import matplotlib.pyplot as plt\n",
        "acc = history.history['acc']\n",
        "val_acc = history.history['val_acc']\n",
        "loss = history.history['loss']\n",
        "val_loss = history.history['val_loss']\n",
        "epochs = range(1, len(acc) + 1)\n",
        "plt.plot(epochs, acc, 'bo', label='Training acc')\n",
        "plt.plot(epochs, val_acc, 'b', label='Validation acc')\n",
        "plt.title('Training and validation accuracy')\n",
        "plt.legend()\n",
        "plt.figure()\n",
        "plt.plot(epochs, loss, 'bo', label='Training loss')\n",
        "plt.plot(epochs, val_loss, 'b', label='Validation loss')\n",
        "plt.title('Training and validation loss')\n",
        "plt.legend()\n",
        "plt.show()"
      ],
      "execution_count": 62,
      "outputs": [
        {
          "output_type": "display_data",
          "data": {
            "image/png": "[encoded data removed]",
            "text/plain": [
              "<Figure size 432x288 with 1 Axes>"
            ]
          },
          "metadata": {
            "tags": [],
            "needs_background": "light"
          }
        },
        {
          "output_type": "display_data",
          "data": {
            "image/png": "[encoded data removed]",
            "text/plain": [
              "<Figure size 432x288 with 1 Axes>"
            ]
          },
          "metadata": {
            "tags": [],
            "needs_background": "light"
          }
        }
      ]
    },
    {
      "cell_type": "code",
      "metadata": {
        "id": "WZWf8zKIfqcn"
      },
      "source": [
        "\n",
        "preds = rnn.predict(input_test[100:105])"
      ],
      "execution_count": 63,
      "outputs": []
    },
    {
      "cell_type": "code",
      "metadata": {
        "colab": {
          "base_uri": "https://localhost:8080/"
        },
        "id": "ADU78G9VftQb",
        "outputId": "d209c4ab-78e9-4ed2-82fe-8e4002a5fab9"
      },
      "source": [
        "preds"
      ],
      "execution_count": 64,
      "outputs": [
        {
          "output_type": "execute_result",
          "data": {
            "text/plain": [
              "array([[0.00388882],\n",
              "       [0.01088202],\n",
              "       [0.10429987],\n",
              "       [0.01232451],\n",
              "       [0.00312734]], dtype=float32)"
            ]
          },
          "metadata": {
            "tags": []
          },
          "execution_count": 64
        }
      ]
    },
    {
      "cell_type": "code",
      "metadata": {
        "colab": {
          "base_uri": "https://localhost:8080/"
        },
        "id": "47q58-7xfx-o",
        "outputId": "71224319-3701-4344-df00-3b583b8af97d"
      },
      "source": [
        "y_test[100:105]"
      ],
      "execution_count": 65,
      "outputs": [
        {
          "output_type": "execute_result",
          "data": {
            "text/plain": [
              "array([1, 1, 0, 0, 0])"
            ]
          },
          "metadata": {
            "tags": []
          },
          "execution_count": 65
        }
      ]
    },
    {
      "cell_type": "code",
      "metadata": {
        "colab": {
          "base_uri": "https://localhost:8080/"
        },
        "id": "2I3N0MAnf0t6",
        "outputId": "e98a98d2-2c7a-441a-abc3-96b9d0e0fc7c"
      },
      "source": [
        "\n",
        "print(preds.shape)\n",
        "p = np.around(preds).astype(np.int64)\n",
        "p\n",
        "\n",
        "z = y_test[100:105] - p.transpose()\n",
        "print(z)\n",
        "np.count_nonzero(z)"
      ],
      "execution_count": 66,
      "outputs": [
        {
          "output_type": "stream",
          "text": [
            "(5, 1)\n",
            "[[1 1 0 0 0]]\n"
          ],
          "name": "stdout"
        },
        {
          "output_type": "execute_result",
          "data": {
            "text/plain": [
              "2"
            ]
          },
          "metadata": {
            "tags": []
          },
          "execution_count": 66
        }
      ]
    },
    {
      "cell_type": "code",
      "metadata": {
        "colab": {
          "base_uri": "https://localhost:8080/"
        },
        "id": "P2C9bMtcf3ee",
        "outputId": "4c5928eb-a539-46fb-f197-bcac2c600dd4"
      },
      "source": [
        "predsAll = rnn.predict(input_test) \n",
        "p = np.around(predsAll).astype(np.int64)\n",
        "\n",
        "z = y_test - p.transpose() \n",
        "print(len(z[0])) \n",
        "flse = np.count_nonzero(z) \n",
        "print('Test set accuracy = ', 100 - flse/len(z[0])*100, '%')"
      ],
      "execution_count": 67,
      "outputs": [
        {
          "output_type": "stream",
          "text": [
            "25000\n",
            "Test set accuracy =  80.48400000000001 %\n"
          ],
          "name": "stdout"
        }
      ]
    },
    {
      "cell_type": "code",
      "metadata": {
        "id": "Ur6W-Cslf76N"
      },
      "source": [
        ""
      ],
      "execution_count": null,
      "outputs": []
    }
  ]
}
{
  "nbformat": 4,
  "nbformat_minor": 0,
  "metadata": {
    "colab": {
      "name": "Untitled17.ipynb",
      "provenance": [],
      "authorship_tag": "ABX9TyP25UmuToLzVR1xj7Hf1ORH",
      "include_colab_link": true
    },
    "kernelspec": {
      "name": "python3",
      "display_name": "Python 3"
    }
  },
  "cells": [
    {
      "cell_type": "markdown",
      "metadata": {
        "id": "view-in-github",
        "colab_type": "text"
      },
      "source": [
        "<a href=\"https://colab.research.google.com/github/soyeonpark11/2020_cphys2/blob/master/hw9-1.ipynb\" target=\"_parent\"><img src=\"https://colab.research.google.com/assets/colab-badge.svg\" alt=\"Open In Colab\"/></a>"
      ]
    },
    {
      "cell_type": "code",
      "metadata": {
        "id": "41I3LjWLc4hd"
      },
      "source": [
        "import numpy as np\n",
        "from tensorflow import keras\n",
        "from keras import models \n",
        "from keras import layers\n",
        "from keras.datasets import mnist\n",
        "from keras.utils import to_categorical\n",
        "import matplotlib.pyplot as plt\n",
        "import tensorflow as tf"
      ],
      "execution_count": 9,
      "outputs": []
    },
    {
      "cell_type": "code",
      "metadata": {
        "id": "VrWojaZlc5HG",
        "outputId": "6b5b6b60-689b-45a8-e4af-2cb4e1e0a451",
        "colab": {
          "base_uri": "https://localhost:8080/",
          "height": 335
        }
      },
      "source": [
        "fashion_mnist = tf.keras.datasets.fashion_mnist\n",
        "(train_X, train_Y), (test_X, test_Y) = fashion_mnist.load_data()\n",
        "print(\"학습셋 :\",len(train_X),\"테스트셋: \", len(test_X))\n",
        "plt.imshow(train_X[0], CMAP='gray')\n",
        "plt.show()\n",
        "print(train_Y[0])\n",
        "train_X = train_X/255.0\n",
        "test_X = test_X/255.0\n",
        "print(train_X.shape, test_X.shape)\n",
        "train_X = train_X.reshape(-1, 28, 28, 1)\n",
        "test_X = test_X.reshape(-1, 28, 28, 1)\n",
        "print(train_X.shape, test_X.shape)\n",
        "\n"
      ],
      "execution_count": 23,
      "outputs": [
        {
          "output_type": "stream",
          "text": [
            "학습셋 : 60000 테스트셋:  10000\n"
          ],
          "name": "stdout"
        },
        {
          "output_type": "display_data",
          "data": {
            "image/png": "[encoded data removed]",
            "text/plain": [
              "<Figure size 432x288 with 1 Axes>"
            ]
          },
          "metadata": {
            "tags": [],
            "needs_background": "light"
          }
        },
        {
          "output_type": "stream",
          "text": [
            "9\n",
            "(60000, 28, 28) (10000, 28, 28)\n",
            "(60000, 28, 28, 1) (10000, 28, 28, 1)\n"
          ],
          "name": "stdout"
        }
      ]
    },
    {
      "cell_type": "code",
      "metadata": {
        "id": "bilTsKg1dAkd"
      },
      "source": [
        "model = tf.keras.Sequential([\n",
        "    tf.keras.layers.Conv2D(input_shape=(28,28,1), kernel_size=(3,3), filters=16, activation='relu'),\n",
        "    tf.keras.layers.MaxPool2D(strides=(2,2)),\n",
        "    tf.keras.layers.Conv2D(kernel_size=(3,3), filters=32,activation='relu'),\n",
        "    tf.keras.layers.MaxPool2D(strides=(2,2)),\n",
        "    tf.keras.layers.Flatten(),\n",
        "    tf.keras.layers.Dense(units=128, activation='relu'),\n",
        "    tf.keras.layers.Dropout(rate=0.3),\n",
        "    tf.keras.layers.Dense(units=10, activation='softmax')\n",
        "                                                                                 \n",
        "])\n",
        "\n"
      ],
      "execution_count": 30,
      "outputs": []
    },
    {
      "cell_type": "code",
      "metadata": {
        "id": "3iweCrFtgsQ5"
      },
      "source": [
        "model.compile(\n",
        "    optimizer = tf.keras.optimizers.Adam(),\n",
        "    loss='sparse_categorical_crossentropy',\n",
        "    metrics=['accuracy']\n",
        ")"
      ],
      "execution_count": 35,
      "outputs": []
    },
    {
      "cell_type": "code",
      "metadata": {
        "id": "D_GqLhX8kkt5",
        "outputId": "98bca86c-4014-4454-a537-9912284acea1",
        "colab": {
          "base_uri": "https://localhost:8080/",
          "height": 996
        }
      },
      "source": [
        "history = model.fit(train_X, train_Y, epochs=20, validation_split=0.25)\n",
        "plt.figure(figsize=(12,4))\n",
        "plt.subplot(1,2,1)\n",
        "plt.plot(history.history['loss'],'b-', label='loss')\n",
        "plt.plot(history.history['val_loss'], 'r--', label='val_loss')\n",
        "plt.xlabel('Epoch')\n",
        "plt.legend()\n",
        "model.evaluate(test_X, test_Y, verbose=0)\n"
      ],
      "execution_count": 39,
      "outputs": [
        {
          "output_type": "stream",
          "text": [
            "Epoch 1/20\n",
            "1407/1407 [==============================] - 27s 19ms/step - loss: 0.0685 - accuracy: 0.9730 - val_loss: 0.5021 - val_accuracy: 0.9085\n",
            "Epoch 2/20\n",
            "1407/1407 [==============================] - 27s 19ms/step - loss: 0.0672 - accuracy: 0.9744 - val_loss: 0.4807 - val_accuracy: 0.9100\n",
            "Epoch 3/20\n",
            "1407/1407 [==============================] - 27s 19ms/step - loss: 0.0694 - accuracy: 0.9745 - val_loss: 0.4655 - val_accuracy: 0.9095\n",
            "Epoch 4/20\n",
            "1407/1407 [==============================] - 26s 19ms/step - loss: 0.0631 - accuracy: 0.9754 - val_loss: 0.4931 - val_accuracy: 0.9080\n",
            "Epoch 5/20\n",
            "1407/1407 [==============================] - 27s 19ms/step - loss: 0.0690 - accuracy: 0.9737 - val_loss: 0.5033 - val_accuracy: 0.9103\n",
            "Epoch 6/20\n",
            "1407/1407 [==============================] - 26s 19ms/step - loss: 0.0669 - accuracy: 0.9738 - val_loss: 0.4906 - val_accuracy: 0.9082\n",
            "Epoch 7/20\n",
            "1407/1407 [==============================] - 27s 19ms/step - loss: 0.0628 - accuracy: 0.9762 - val_loss: 0.5113 - val_accuracy: 0.9067\n",
            "Epoch 8/20\n",
            "1407/1407 [==============================] - 27s 19ms/step - loss: 0.0637 - accuracy: 0.9758 - val_loss: 0.4726 - val_accuracy: 0.9081\n",
            "Epoch 9/20\n",
            "1407/1407 [==============================] - 27s 19ms/step - loss: 0.0605 - accuracy: 0.9760 - val_loss: 0.5653 - val_accuracy: 0.9071\n",
            "Epoch 10/20\n",
            "1407/1407 [==============================] - 27s 19ms/step - loss: 0.0627 - accuracy: 0.9762 - val_loss: 0.4997 - val_accuracy: 0.9089\n",
            "Epoch 11/20\n",
            "1407/1407 [==============================] - 27s 19ms/step - loss: 0.0584 - accuracy: 0.9779 - val_loss: 0.4833 - val_accuracy: 0.9066\n",
            "Epoch 12/20\n",
            "1407/1407 [==============================] - 27s 19ms/step - loss: 0.0644 - accuracy: 0.9759 - val_loss: 0.5144 - val_accuracy: 0.9098\n",
            "Epoch 13/20\n",
            "1407/1407 [==============================] - 27s 19ms/step - loss: 0.0572 - accuracy: 0.9784 - val_loss: 0.5299 - val_accuracy: 0.9109\n",
            "Epoch 14/20\n",
            "1407/1407 [==============================] - 28s 20ms/step - loss: 0.0546 - accuracy: 0.9796 - val_loss: 0.5631 - val_accuracy: 0.9119\n",
            "Epoch 15/20\n",
            "1407/1407 [==============================] - 28s 20ms/step - loss: 0.0604 - accuracy: 0.9777 - val_loss: 0.5628 - val_accuracy: 0.9074\n",
            "Epoch 16/20\n",
            "1407/1407 [==============================] - 32s 22ms/step - loss: 0.0559 - accuracy: 0.9784 - val_loss: 0.5375 - val_accuracy: 0.9083\n",
            "Epoch 17/20\n",
            "1407/1407 [==============================] - 27s 19ms/step - loss: 0.0547 - accuracy: 0.9793 - val_loss: 0.5593 - val_accuracy: 0.9085\n",
            "Epoch 18/20\n",
            "1407/1407 [==============================] - 27s 19ms/step - loss: 0.0555 - accuracy: 0.9796 - val_loss: 0.5587 - val_accuracy: 0.9099\n",
            "Epoch 19/20\n",
            "1407/1407 [==============================] - 27s 20ms/step - loss: 0.0551 - accuracy: 0.9780 - val_loss: 0.5502 - val_accuracy: 0.9097\n",
            "Epoch 20/20\n",
            "1407/1407 [==============================] - 27s 19ms/step - loss: 0.0574 - accuracy: 0.9788 - val_loss: 0.5484 - val_accuracy: 0.9089\n"
          ],
          "name": "stdout"
        },
        {
          "output_type": "execute_result",
          "data": {
            "text/plain": [
              "[0.6258544921875, 0.9021000266075134]"
            ]
          },
          "metadata": {
            "tags": []
          },
          "execution_count": 39
        },
        {
          "output_type": "display_data",
          "data": {
            "image/png": "[encoded data removed]",
            "text/plain": [
              "<Figure size 864x288 with 1 Axes>"
            ]
          },
          "metadata": {
            "tags": [],
            "needs_background": "light"
          }
        }
      ]
    },
    {
      "cell_type": "code",
      "metadata": {
        "id": "YGVvC3GBlZPV"
      },
      "source": [
        " "
      ],
      "execution_count": null,
      "outputs": []
    }
  ]
}